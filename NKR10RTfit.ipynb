{
 "cells": [
  {
   "cell_type": "code",
   "execution_count": 74,
   "metadata": {},
   "outputs": [],
   "source": [
    "import pandas as pd\n",
    "import numpy as np\n",
    "import matplotlib.pyplot as plt\n",
    "import matplotlib as mpl\n",
    "from scipy.optimize import curve_fit\n"
   ]
  },
  {
   "cell_type": "code",
   "execution_count": 75,
   "metadata": {},
   "outputs": [],
   "source": [
    "df = pd.read_excel(r'/Users/anastasiailina/Desktop/jupiter/NKR10RT.xls')\n",
    "#для mac (r'/Users/anastasiailina/Desktop/jupiter/NKR3RT.xls')\n",
    "#для huawei (r'C:\\NKR_PPMS.xls')"
   ]
  },
  {
   "cell_type": "code",
   "execution_count": 6,
   "metadata": {},
   "outputs": [],
   "source": [
    "x = np.random.rand(50)*2000\n"
   ]
  },
  {
   "cell_type": "code",
   "execution_count": 7,
   "metadata": {},
   "outputs": [],
   "source": [
    "y = np.random.rand(50)*2000"
   ]
  },
  {
   "cell_type": "code",
   "execution_count": 8,
   "metadata": {},
   "outputs": [
    {
     "data": {
      "text/plain": [
       "<matplotlib.collections.PathCollection at 0x12290d850>"
      ]
     },
     "execution_count": 8,
     "metadata": {},
     "output_type": "execute_result"
    },
    {
     "data": {
      "image/png": "[encoded data removed]",
      "text/plain": [
       "<Figure size 432x288 with 1 Axes>"
      ]
     },
     "metadata": {
      "needs_background": "light"
     },
     "output_type": "display_data"
    }
   ],
   "source": [
    "plt.scatter(x,y)"
   ]
  },
  {
   "cell_type": "code",
   "execution_count": 76,
   "metadata": {},
   "outputs": [
    {
     "data": {
      "text/html": [
       "<div>\n",
       "<style scoped>\n",
       "    .dataframe tbody tr th:only-of-type {\n",
       "        vertical-align: middle;\n",
       "    }\n",
       "\n",
       "    .dataframe tbody tr th {\n",
       "        vertical-align: top;\n",
       "    }\n",
       "\n",
       "    .dataframe thead th {\n",
       "        text-align: right;\n",
       "    }\n",
       "</style>\n",
       "<table border=\"1\" class=\"dataframe\">\n",
       "  <thead>\n",
       "    <tr style=\"text-align: right;\">\n",
       "      <th></th>\n",
       "      <th>T</th>\n",
       "      <th>R</th>\n",
       "    </tr>\n",
       "  </thead>\n",
       "  <tbody>\n",
       "    <tr>\n",
       "      <th>0</th>\n",
       "      <td>NaN</td>\n",
       "      <td>NaN</td>\n",
       "    </tr>\n",
       "    <tr>\n",
       "      <th>1</th>\n",
       "      <td>4.20959</td>\n",
       "      <td>0.00060</td>\n",
       "    </tr>\n",
       "    <tr>\n",
       "      <th>2</th>\n",
       "      <td>4.36283</td>\n",
       "      <td>0.00115</td>\n",
       "    </tr>\n",
       "    <tr>\n",
       "      <th>3</th>\n",
       "      <td>4.51245</td>\n",
       "      <td>0.00033</td>\n",
       "    </tr>\n",
       "    <tr>\n",
       "      <th>4</th>\n",
       "      <td>4.67626</td>\n",
       "      <td>0.00061</td>\n",
       "    </tr>\n",
       "  </tbody>\n",
       "</table>\n",
       "</div>"
      ],
      "text/plain": [
       "         T        R\n",
       "0      NaN      NaN\n",
       "1  4.20959  0.00060\n",
       "2  4.36283  0.00115\n",
       "3  4.51245  0.00033\n",
       "4  4.67626  0.00061"
      ]
     },
     "execution_count": 76,
     "metadata": {},
     "output_type": "execute_result"
    }
   ],
   "source": [
    "data = df.copy()\n",
    "\n",
    "cols = [\"T\", \"R\"]\n",
    "data.columns = [\"T\", \"R\"]\n",
    "data_ = data.copy()\n",
    "data_.head()"
   ]
  },
  {
   "cell_type": "code",
   "execution_count": 77,
   "metadata": {},
   "outputs": [],
   "source": [
    "T = np.array(data_[\"T\"])\n",
    "R = np.array(data_[\"R\"])"
   ]
  },
  {
   "cell_type": "code",
   "execution_count": 78,
   "metadata": {},
   "outputs": [],
   "source": [
    "T = T[~np.isnan(T)]\n",
    "R = R[~np.isnan(R)]"
   ]
  },
  {
   "cell_type": "code",
   "execution_count": 79,
   "metadata": {},
   "outputs": [
    {
     "name": "stdout",
     "output_type": "stream",
     "text": [
      "1514\n"
     ]
    },
    {
     "data": {
      "image/png": "[encoded data removed]",
      "text/plain": [
       "<Figure size 432x288 with 1 Axes>"
      ]
     },
     "metadata": {
      "needs_background": "light"
     },
     "output_type": "display_data"
    }
   ],
   "source": [
    "plt.scatter(T,R)\n",
    "print(len(T))"
   ]
  },
  {
   "cell_type": "code",
   "execution_count": 80,
   "metadata": {},
   "outputs": [],
   "source": [
    "T_ = np.delete(T, np.s_[0:212])\n",
    "#T1 = np.delete(T_,np.s_[4703:5622])"
   ]
  },
  {
   "cell_type": "code",
   "execution_count": 81,
   "metadata": {
    "scrolled": true
   },
   "outputs": [
    {
     "name": "stdout",
     "output_type": "stream",
     "text": [
      "1514\n"
     ]
    }
   ],
   "source": [
    "print(len(T))"
   ]
  },
  {
   "cell_type": "code",
   "execution_count": 82,
   "metadata": {},
   "outputs": [],
   "source": [
    "R_ = np.delete(R, np.s_[0:212])\n",
    "#R1 = np.delete(R_,np.s_[4703:5622])\n",
    "R2 = R_/0.84507"
   ]
  },
  {
   "cell_type": "code",
   "execution_count": 83,
   "metadata": {
    "scrolled": true
   },
   "outputs": [
    {
     "data": {
      "text/plain": [
       "<matplotlib.collections.PathCollection at 0x123204a90>"
      ]
     },
     "execution_count": 83,
     "metadata": {},
     "output_type": "execute_result"
    },
    {
     "data": {
      "image/png": "[encoded data removed]",
      "text/plain": [
       "<Figure size 432x288 with 1 Axes>"
      ]
     },
     "metadata": {
      "needs_background": "light"
     },
     "output_type": "display_data"
    }
   ],
   "source": [
    "plt.scatter(T_,R2)"
   ]
  },
  {
   "cell_type": "code",
   "execution_count": 85,
   "metadata": {},
   "outputs": [],
   "source": [
    "\n",
    "def Rmet(t,R0met,X,n):\n",
    "    return 1/(R0met+X*t**n) \n",
    "#initial guess itaration process\n",
    "#1 (0.892, 2*10**(-5), 2.79, 1.4*10**(-3), 3.05975869e+02, 0.1, 3.06022736e+02)\n",
    "#2 (-2.29289970e-02,  1.21265789e-03,  1.97025527e+00,  3.69929223e-06, 5.33149044e+02, -7.69288686e-01,  1.51942876e+03)\n",
    "#3 2.29306555e-02,  1.21266366e-03,  1.97025428e+00,  3.69916002e-06,5.33150253e+02, 7.69288686e-01,  1.51942876e+03\n",
    "#4 -2.29543772e-02,  1.21269824e-03,  1.97024870e+00,  3.69897731e-06, 5.33151968e+02,  7.69288686e-01,  1.51942876e+03\n",
    "#5 -2.29543772e-02,  1.21269824e-03,  1.97024870e+00,  3.69897731e-06, 5.33151968e+02,  -7.69288686e-01,  1.51942876e+03\n",
    "#6 -2.29326679e-02,  1.21266635e-03,  1.97025385e+00,  3.69911258e-06, 5.33150683e+02, -7.69288686e-01,  1.51942876e+03"
   ]
  },
  {
   "cell_type": "code",
   "execution_count": 238,
   "metadata": {},
   "outputs": [],
   "source": [
    "R0met = 0.892\n",
    "X = 2*10**(-5)\n",
    "n = 2.79\n",
    "def Rsemi(t, R0semi,Eg):\n",
    "    return 1/(R0semi*np.exp(Eg*5.8/t))"
   ]
  },
  {
   "cell_type": "code",
   "execution_count": 239,
   "metadata": {},
   "outputs": [
    {
     "data": {
      "text/plain": [
       "[<matplotlib.lines.Line2D at 0x124e6a880>]"
      ]
     },
     "execution_count": 239,
     "metadata": {},
     "output_type": "execute_result"
    },
    {
     "data": {
      "image/png": "[encoded data removed]",
      "text/plain": [
       "<Figure size 432x288 with 1 Axes>"
      ]
     },
     "metadata": {
      "needs_background": "light"
     },
     "output_type": "display_data"
    }
   ],
   "source": [
    "plt.plot(T, 1/(Rsemi(T, 1.4*10**(-3),300)+Rmet(T,R0met,X,n)+Rsemi(T,1*0.1,300)))"
   ]
  },
  {
   "cell_type": "code",
   "execution_count": 240,
   "metadata": {},
   "outputs": [],
   "source": [
    "def func (x,a,b,c,d,e,f,g):\n",
    "    return 1/(Rmet(x,a,b,c)+Rsemi(x,d,e)+Rsemi(x,f,g))"
   ]
  },
  {
   "cell_type": "code",
   "execution_count": 267,
   "metadata": {},
   "outputs": [],
   "source": [
    "initial_guess = [-2.29543772e-02,  1.21269824e-03,  1.97024870e+00,  3.69897731e-06, 5.33151968e+02,  -7.69288686e-01,  1.51942876e+03] "
   ]
  },
  {
   "cell_type": "code",
   "execution_count": 268,
   "metadata": {},
   "outputs": [
    {
     "name": "stdout",
     "output_type": "stream",
     "text": [
      "Optimal parameters: [-2.29326679e-02  1.21266635e-03  1.97025385e+00  3.69911258e-06\n",
      "  5.33150683e+02 -7.69288686e-01  1.51942876e+03]\n"
     ]
    },
    {
     "name": "stderr",
     "output_type": "stream",
     "text": [
      "/Users/anastasiailina/opt/anaconda3/envs/coursera_ds/lib/python3.8/site-packages/scipy/optimize/minpack.py:833: OptimizeWarning: Covariance of the parameters could not be estimated\n",
      "  warnings.warn('Covariance of the parameters could not be estimated',\n"
     ]
    }
   ],
   "source": [
    "popt, pcov = curve_fit(func,T_,R2, p0=initial_guess)\n",
    "\n",
    "print(\"Optimal parameters:\", popt)"
   ]
  },
  {
   "cell_type": "code",
   "execution_count": 37,
   "metadata": {},
   "outputs": [
    {
     "data": {
      "text/plain": [
       "[<matplotlib.lines.Line2D at 0x122c5b370>]"
      ]
     },
     "execution_count": 37,
     "metadata": {},
     "output_type": "execute_result"
    },
    {
     "data": {
      "image/png": "[encoded data removed]",
      "text/plain": [
       "<Figure size 432x288 with 1 Axes>"
      ]
     },
     "metadata": {
      "needs_background": "light"
     },
     "output_type": "display_data"
    }
   ],
   "source": [
    "plt.plot(T_,func (T_,8.91844815e-01, 1.98205230e-05, 2.70572811e+00, 4.05039795e-04, 3.05975869e+02, 3.79708942e-01, 3.06022736e+02))"
   ]
  },
  {
   "cell_type": "code",
   "execution_count": 38,
   "metadata": {},
   "outputs": [],
   "source": [
    "from matplotlib import rc\n",
    "rc('font',**{'family':'serif'})\n",
    "rc('text', usetex=True)\n",
    "rc('text.latex', preamble='\\\\usepackage[utf8]{inputenc}')\n",
    "rc('text.latex', preamble='\\\\usepackage[russian]{babel}')"
   ]
  },
  {
   "cell_type": "code",
   "execution_count": 269,
   "metadata": {},
   "outputs": [
    {
     "name": "stderr",
     "output_type": "stream",
     "text": [
      "<ipython-input-238-f77eeb359c12>:5: RuntimeWarning: overflow encountered in exp\n",
      "  return 1/(R0semi*np.exp(Eg*5.8/t))\n"
     ]
    },
    {
     "data": {
      "image/png": "[encoded data removed]",
      "text/plain": [
       "<Figure size 504x504 with 1 Axes>"
      ]
     },
     "metadata": {
      "needs_background": "light"
     },
     "output_type": "display_data"
    }
   ],
   "source": [
    "plt.figure(figsize=(7,7))\n",
    "mpl.rcParams['font.size'] = 16\n",
    "plt.ylabel(\"R(T)/R($T_c^{onset}$) \")\n",
    "plt.xlabel(\"T, K\")\n",
    "x = np.linspace(4.2, 232,1513)\n",
    "plt.ylim( 0, 30)\n",
    "plt.xlim( 0, 235)\n",
    "\n",
    "plt.scatter(T,R/0.84507, color=\"y\", label=\"NKR10\")\n",
    "plt.plot(x,func(x,-2.29326679e-02,  1.21266635e-03,  1.97025385e+00,  3.69911258e-06, 5.33150683e+02, -7.69288686e-01,  1.51942876e+03), 'k', label=\"$fit$\")\n",
    "\n",
    "save_results_to = '/Users/anastasiailina/Desktop/jupiter/'\n",
    "plt.legend()\n",
    "plt.savefig(save_results_to + \"NKR10.png\", dpi = 300)\n",
    "plt.legend()\n",
    "plt.show()"
   ]
  },
  {
   "cell_type": "code",
   "execution_count": null,
   "metadata": {},
   "outputs": [],
   "source": []
  }
 ],
 "metadata": {
  "kernelspec": {
   "display_name": "Python 3",
   "language": "python",
   "name": "python3"
  },
  "language_info": {
   "codemirror_mode": {
    "name": "ipython",
    "version": 3
   },
   "file_extension": ".py",
   "mimetype": "text/x-python",
   "name": "python",
   "nbconvert_exporter": "python",
   "pygments_lexer": "ipython3",
   "version": "3.8.20"
  }
 },
 "nbformat": 4,
 "nbformat_minor": 5
}
