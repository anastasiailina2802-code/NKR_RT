{
 "cells": [
  {
   "cell_type": "code",
   "execution_count": 1,
   "metadata": {},
   "outputs": [],
   "source": [
    "import pandas as pd\n",
    "import numpy as np\n",
    "import matplotlib.pyplot as plt\n",
    "import matplotlib as mpl\n",
    "from scipy.optimize import curve_fit\n"
   ]
  },
  {
   "cell_type": "code",
   "execution_count": 2,
   "metadata": {},
   "outputs": [],
   "source": [
    "df = pd.read_excel(r'/Users/anastasiailina/Desktop/jupiter/NKR2RT.xls')\n",
    "#для mac (r'/Users/anastasiailina/Desktop/jupiter/NKR3RT.xls')\n",
    "#для huawei (r'C:\\NKR_PPMS.xls')"
   ]
  },
  {
   "cell_type": "code",
   "execution_count": 3,
   "metadata": {},
   "outputs": [],
   "source": [
    "x = np.random.rand(50)*2000\n"
   ]
  },
  {
   "cell_type": "code",
   "execution_count": 4,
   "metadata": {},
   "outputs": [],
   "source": [
    "y = np.random.rand(50)*2000"
   ]
  },
  {
   "cell_type": "code",
   "execution_count": 5,
   "metadata": {},
   "outputs": [
    {
     "data": {
      "text/plain": [
       "<matplotlib.collections.PathCollection at 0x120aba460>"
      ]
     },
     "execution_count": 5,
     "metadata": {},
     "output_type": "execute_result"
    },
    {
     "data": {
      "image/png": "[encoded data removed]",
      "text/plain": [
       "<Figure size 432x288 with 1 Axes>"
      ]
     },
     "metadata": {
      "needs_background": "light"
     },
     "output_type": "display_data"
    }
   ],
   "source": [
    "plt.scatter(x,y)"
   ]
  },
  {
   "cell_type": "code",
   "execution_count": 6,
   "metadata": {},
   "outputs": [
    {
     "data": {
      "text/html": [
       "<div>\n",
       "<style scoped>\n",
       "    .dataframe tbody tr th:only-of-type {\n",
       "        vertical-align: middle;\n",
       "    }\n",
       "\n",
       "    .dataframe tbody tr th {\n",
       "        vertical-align: top;\n",
       "    }\n",
       "\n",
       "    .dataframe thead th {\n",
       "        text-align: right;\n",
       "    }\n",
       "</style>\n",
       "<table border=\"1\" class=\"dataframe\">\n",
       "  <thead>\n",
       "    <tr style=\"text-align: right;\">\n",
       "      <th></th>\n",
       "      <th>T</th>\n",
       "      <th>R</th>\n",
       "      <th>1stDeriv</th>\n",
       "    </tr>\n",
       "  </thead>\n",
       "  <tbody>\n",
       "    <tr>\n",
       "      <th>0</th>\n",
       "      <td>NaN</td>\n",
       "      <td>NaN</td>\n",
       "      <td>NaN</td>\n",
       "    </tr>\n",
       "    <tr>\n",
       "      <th>1</th>\n",
       "      <td>4.22015</td>\n",
       "      <td>0.000035</td>\n",
       "      <td>-0.000053</td>\n",
       "    </tr>\n",
       "    <tr>\n",
       "      <th>2</th>\n",
       "      <td>4.27394</td>\n",
       "      <td>0.000032</td>\n",
       "      <td>-0.000027</td>\n",
       "    </tr>\n",
       "    <tr>\n",
       "      <th>3</th>\n",
       "      <td>4.34702</td>\n",
       "      <td>0.000032</td>\n",
       "      <td>0.000029</td>\n",
       "    </tr>\n",
       "    <tr>\n",
       "      <th>4</th>\n",
       "      <td>4.40903</td>\n",
       "      <td>0.000035</td>\n",
       "      <td>-0.000014</td>\n",
       "    </tr>\n",
       "  </tbody>\n",
       "</table>\n",
       "</div>"
      ],
      "text/plain": [
       "         T         R  1stDeriv\n",
       "0      NaN       NaN       NaN\n",
       "1  4.22015  0.000035 -0.000053\n",
       "2  4.27394  0.000032 -0.000027\n",
       "3  4.34702  0.000032  0.000029\n",
       "4  4.40903  0.000035 -0.000014"
      ]
     },
     "execution_count": 6,
     "metadata": {},
     "output_type": "execute_result"
    }
   ],
   "source": [
    "data = df.copy()\n",
    "\n",
    "cols = [\"T\", \"R\", \"Deriv\"]\n",
    "data.columns = [\"T\", \"R\", \"1stDeriv\"]\n",
    "data_ = data.copy()\n",
    "data_.head()"
   ]
  },
  {
   "cell_type": "code",
   "execution_count": 7,
   "metadata": {},
   "outputs": [],
   "source": [
    "T = np.array(data_[\"T\"])\n",
    "R = np.array(data_[\"R\"])"
   ]
  },
  {
   "cell_type": "code",
   "execution_count": 8,
   "metadata": {},
   "outputs": [],
   "source": [
    "T = T[~np.isnan(T)]\n",
    "R = R[~np.isnan(R)]"
   ]
  },
  {
   "cell_type": "code",
   "execution_count": 9,
   "metadata": {},
   "outputs": [
    {
     "name": "stdout",
     "output_type": "stream",
     "text": [
      "3117\n"
     ]
    },
    {
     "data": {
      "image/png": "[encoded data removed]",
      "text/plain": [
       "<Figure size 432x288 with 1 Axes>"
      ]
     },
     "metadata": {
      "needs_background": "light"
     },
     "output_type": "display_data"
    }
   ],
   "source": [
    "plt.scatter(T,R)\n",
    "print(len(T))"
   ]
  },
  {
   "cell_type": "code",
   "execution_count": 12,
   "metadata": {},
   "outputs": [],
   "source": [
    "T_ = np.delete(T, np.s_[0:454])\n",
    "#T1 = np.delete(T_,np.s_[4703:5622])"
   ]
  },
  {
   "cell_type": "code",
   "execution_count": 13,
   "metadata": {
    "scrolled": true
   },
   "outputs": [
    {
     "name": "stdout",
     "output_type": "stream",
     "text": [
      "3117\n"
     ]
    }
   ],
   "source": [
    "print(len(T))"
   ]
  },
  {
   "cell_type": "code",
   "execution_count": 14,
   "metadata": {},
   "outputs": [],
   "source": [
    "R_ = np.delete(R, np.s_[0:454])\n",
    "#R1 = np.delete(R_,np.s_[4703:5622])\n",
    "R2 = R_/0.651"
   ]
  },
  {
   "cell_type": "code",
   "execution_count": 15,
   "metadata": {
    "scrolled": true
   },
   "outputs": [
    {
     "data": {
      "text/plain": [
       "<matplotlib.collections.PathCollection at 0x120ada220>"
      ]
     },
     "execution_count": 15,
     "metadata": {},
     "output_type": "execute_result"
    },
    {
     "data": {
      "image/png": "[encoded data removed]",
      "text/plain": [
       "<Figure size 432x288 with 1 Axes>"
      ]
     },
     "metadata": {
      "needs_background": "light"
     },
     "output_type": "display_data"
    }
   ],
   "source": [
    "plt.scatter(T_,R2)"
   ]
  },
  {
   "cell_type": "code",
   "execution_count": 16,
   "metadata": {},
   "outputs": [],
   "source": [
    "\n",
    "def Rmet(t,R0met,X,n):\n",
    "    return 1/(R0met+X*t**n) \n",
    "#initial guess itaration process\n",
    "#1 (0.892, 2*10**(-5), 2.79, 1.4*10**(-3), 3.05975869e+02, 0.1, 3.06022736e+02)\n",
    "#2 1.05262645e+00, 2.20311283e-05, 2.74608528e+00, 3.88249973e-04,3.17111298e+02, 1.03494484e-02, 3.17110471e+02\n",
    "#3 1.05259592e+00, 2.20332982e-05, 2.74606526e+00, 3.88241668e-04, 3.17110768e+02, 1.03455390e-02, 3.17155864e+02\n",
    "#4 \n",
    "#5 \n",
    "#6 "
   ]
  },
  {
   "cell_type": "code",
   "execution_count": 17,
   "metadata": {},
   "outputs": [],
   "source": [
    "R0met = 0.892\n",
    "X = 2*10**(-5)\n",
    "n = 2.79\n",
    "def Rsemi(t, R0semi,Eg):\n",
    "    return 1/(R0semi*np.exp(Eg*5.8/t))"
   ]
  },
  {
   "cell_type": "code",
   "execution_count": 239,
   "metadata": {},
   "outputs": [
    {
     "data": {
      "text/plain": [
       "[<matplotlib.lines.Line2D at 0x124e6a880>]"
      ]
     },
     "execution_count": 239,
     "metadata": {},
     "output_type": "execute_result"
    },
    {
     "data": {
      "image/png": "[encoded data removed]",
      "text/plain": [
       "<Figure size 432x288 with 1 Axes>"
      ]
     },
     "metadata": {
      "needs_background": "light"
     },
     "output_type": "display_data"
    }
   ],
   "source": [
    "plt.plot(T, 1/(Rsemi(T, 1.4*10**(-3),300)+Rmet(T,R0met,X,n)+Rsemi(T,1*0.1,300)))"
   ]
  },
  {
   "cell_type": "code",
   "execution_count": 18,
   "metadata": {},
   "outputs": [],
   "source": [
    "def func (x,a,b,c,d,e,f,g):\n",
    "    return 1/(Rmet(x,a,b,c)+Rsemi(x,d,e)+Rsemi(x,f,g))"
   ]
  },
  {
   "cell_type": "code",
   "execution_count": 26,
   "metadata": {},
   "outputs": [],
   "source": [
    "initial_guess = [1.05262645e+00, 2.20311283e-05, 2.74608528e+00, 3.88249973e-04,3.17111298e+02, 1.03494484e-02, 3.17110471e+02] "
   ]
  },
  {
   "cell_type": "code",
   "execution_count": 27,
   "metadata": {},
   "outputs": [
    {
     "name": "stdout",
     "output_type": "stream",
     "text": [
      "Optimal parameters: [1.05259592e+00 2.20332982e-05 2.74606526e+00 3.88241668e-04\n",
      " 3.17110768e+02 1.03455390e-02 3.17155864e+02]\n"
     ]
    },
    {
     "name": "stderr",
     "output_type": "stream",
     "text": [
      "<ipython-input-17-f77eeb359c12>:5: RuntimeWarning: divide by zero encountered in true_divide\n",
      "  return 1/(R0semi*np.exp(Eg*5.8/t))\n",
      "<ipython-input-17-f77eeb359c12>:5: RuntimeWarning: overflow encountered in exp\n",
      "  return 1/(R0semi*np.exp(Eg*5.8/t))\n",
      "<ipython-input-17-f77eeb359c12>:5: RuntimeWarning: overflow encountered in true_divide\n",
      "  return 1/(R0semi*np.exp(Eg*5.8/t))\n"
     ]
    }
   ],
   "source": [
    "popt, pcov = curve_fit(func,T_,R2, p0=initial_guess)\n",
    "\n",
    "print(\"Optimal parameters:\", popt)"
   ]
  },
  {
   "cell_type": "code",
   "execution_count": 37,
   "metadata": {},
   "outputs": [
    {
     "data": {
      "text/plain": [
       "[<matplotlib.lines.Line2D at 0x122c5b370>]"
      ]
     },
     "execution_count": 37,
     "metadata": {},
     "output_type": "execute_result"
    },
    {
     "data": {
      "image/png": "[encoded data removed]",
      "text/plain": [
       "<Figure size 432x288 with 1 Axes>"
      ]
     },
     "metadata": {
      "needs_background": "light"
     },
     "output_type": "display_data"
    }
   ],
   "source": [
    "plt.plot(T_,func (T_,8.91844815e-01, 1.98205230e-05, 2.70572811e+00, 4.05039795e-04, 3.05975869e+02, 3.79708942e-01, 3.06022736e+02))"
   ]
  },
  {
   "cell_type": "code",
   "execution_count": 38,
   "metadata": {},
   "outputs": [],
   "source": [
    "from matplotlib import rc\n",
    "rc('font',**{'family':'serif'})\n",
    "rc('text', usetex=True)\n",
    "rc('text.latex', preamble='\\\\usepackage[utf8]{inputenc}')\n",
    "rc('text.latex', preamble='\\\\usepackage[russian]{babel}')"
   ]
  },
  {
   "cell_type": "code",
   "execution_count": 28,
   "metadata": {},
   "outputs": [
    {
     "data": {
      "image/png": "[encoded data removed]",
      "text/plain": [
       "<Figure size 504x504 with 1 Axes>"
      ]
     },
     "metadata": {
      "needs_background": "light"
     },
     "output_type": "display_data"
    }
   ],
   "source": [
    "plt.figure(figsize=(7,7))\n",
    "mpl.rcParams['font.size'] = 16\n",
    "plt.ylabel(\"R(T)/R($T_c^{onset}$) \")\n",
    "plt.xlabel(\"T, K\")\n",
    "x = np.linspace(4.22, 235,3116)\n",
    "plt.ylim( 0, 20)\n",
    "plt.xlim( 0, 240)\n",
    "\n",
    "plt.scatter(T,R/0.651, color=\"c\", label=\"NKR2\")\n",
    "plt.plot(x,func(x,1.05259592e+00, 2.20332982e-05, 2.74606526e+00, 3.88241668e-04, 3.17110768e+02, 1.03455390e-02, 3.17155864e+02), 'k', label=\"$fit$\")\n",
    "\n",
    "save_results_to = '/Users/anastasiailina/Desktop/jupiter/'\n",
    "plt.legend()\n",
    "plt.savefig(save_results_to + \"NKR2.png\", dpi = 300)\n",
    "plt.legend()\n",
    "plt.show()"
   ]
  },
  {
   "cell_type": "code",
   "execution_count": null,
   "metadata": {},
   "outputs": [],
   "source": []
  }
 ],
 "metadata": {
  "kernelspec": {
   "display_name": "Python 3",
   "language": "python",
   "name": "python3"
  },
  "language_info": {
   "codemirror_mode": {
    "name": "ipython",
    "version": 3
   },
   "file_extension": ".py",
   "mimetype": "text/x-python",
   "name": "python",
   "nbconvert_exporter": "python",
   "pygments_lexer": "ipython3",
   "version": "3.8.20"
  }
 },
 "nbformat": 4,
 "nbformat_minor": 5
}
